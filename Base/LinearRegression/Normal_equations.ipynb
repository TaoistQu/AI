{
 "cells": [
  {
   "cell_type": "code",
   "execution_count": 121,
   "metadata": {},
   "outputs": [
    {
     "data": {
      "text/plain": "array([ 339, -114,   30,  126, -395,  -87,  422, -309])"
     },
     "execution_count": 121,
     "metadata": {},
     "output_type": "execute_result"
    }
   ],
   "source": [
    "import numpy as np\n",
    "\n",
    "X = np.array([[  0 ,14 , 8 ,  0 ,  5,  -2,   9,  -3],\n",
    " [ -4 , 10 ,  6 ,  4 ,-14 , -2 ,-14  , 8],\n",
    " [ -1 , -6  , 5 ,-12 ,  3 , -3 ,  2 , -2],\n",
    " [  5 , -2  , 3 , 10  , 5 , 11 ,  4  ,-8],\n",
    " [-15 ,-15  ,-8 ,-15 ,  7 , -4, -12 ,  2],\n",
    " [ 11 ,-10 , -2 ,  4  , 3 , -9 , -6 ,  7],\n",
    " [-14 ,  0 ,  4 , -3  , 5 , 10 , 13 ,  7],\n",
    " [ -3 , -7 , -2 , -8  , 0 , -6 , -5 , -9]])\n",
    "\n",
    "y = np.array([ 339 ,-114  , 30 , 126, -395 , -87 , 422, -309])\n",
    "\n",
    "y"
   ]
  },
  {
   "cell_type": "code",
   "execution_count": 122,
   "metadata": {
    "pycharm": {
     "name": "#%%\n"
    }
   },
   "outputs": [
    {
     "data": {
      "text/plain": "array([ 1.,  5., 15.,  3.,  8.,  4., 17., 12.])"
     },
     "execution_count": 122,
     "metadata": {},
     "output_type": "execute_result"
    }
   ],
   "source": [
    "from IPython.core.display import display\n",
    "from sklearn.linear_model import LinearRegression\n",
    "w = np.linalg.inv(X.T.dot(X)).dot(X.T).dot(y)\n",
    "w\n"
   ]
  },
  {
   "cell_type": "code",
   "execution_count": 123,
   "metadata": {},
   "outputs": [
    {
     "data": {
      "text/plain": "array([ 1.,  5., 15.,  3.,  8.,  4., 17., 12.])"
     },
     "metadata": {},
     "output_type": "display_data"
    },
    {
     "data": {
      "text/plain": "0.0"
     },
     "metadata": {},
     "output_type": "display_data"
    },
    {
     "data": {
      "text/plain": "array([ 1.,  5., 15.,  3.,  8.,  4., 17., 12.])"
     },
     "metadata": {},
     "output_type": "display_data"
    },
    {
     "data": {
      "text/plain": "0.0"
     },
     "metadata": {},
     "output_type": "display_data"
    }
   ],
   "source": [
    "mode = LinearRegression(fit_intercept=False)\n",
    "mode.fit(X,y)\n",
    "display(mode.coef_,mode.intercept_)"
   ]
  },
  {
   "cell_type": "code",
   "execution_count": 124,
   "outputs": [
    {
     "data": {
      "text/plain": "array([ 403,  -50,   94,  190, -331,  -23,  486, -245])"
     },
     "execution_count": 111,
     "metadata": {},
     "output_type": "execute_result"
    },
    {
     "data": {
      "text/plain": "array([ 403,  -50,   94,  190, -331,  -23,  486, -245])"
     },
     "execution_count": 124,
     "metadata": {},
     "output_type": "execute_result"
    }
   ],
   "source": [
    "y_new = y+64\n",
    "y_new"
   ],
   "metadata": {
    "collapsed": false,
    "pycharm": {
     "name": "#%%\n"
    }
   }
  },
  {
   "cell_type": "code",
   "execution_count": 125,
   "outputs": [
    {
     "data": {
      "text/plain": "array([-9.53423295, -3.18237714, 32.89293368, 13.94370726, 12.88345187,\n       -5.64066992, 14.95379584,  8.62431708])"
     },
     "execution_count": 112,
     "metadata": {},
     "output_type": "execute_result"
    },
    {
     "data": {
      "text/plain": "array([-9.53423295, -3.18237714, 32.89293368, 13.94370726, 12.88345187,\n       -5.64066992, 14.95379584,  8.62431708])"
     },
     "execution_count": 125,
     "metadata": {},
     "output_type": "execute_result"
    }
   ],
   "source": [
    "w = np.linalg.inv(X.T.dot(X)).dot(X.T).dot(y_new)\n",
    "w\n"
   ],
   "metadata": {
    "collapsed": false,
    "pycharm": {
     "name": "#%%\n"
    }
   }
  },
  {
   "cell_type": "code",
   "execution_count": 126,
   "outputs": [
    {
     "data": {
      "text/plain": "array([[  0.,  14.,   8.,   0.,   5.,  -2.,   9.,  -3.,   1.],\n       [ -4.,  10.,   6.,   4., -14.,  -2., -14.,   8.,   1.],\n       [ -1.,  -6.,   5., -12.,   3.,  -3.,   2.,  -2.,   1.],\n       [  5.,  -2.,   3.,  10.,   5.,  11.,   4.,  -8.,   1.],\n       [-15., -15.,  -8., -15.,   7.,  -4., -12.,   2.,   1.],\n       [ 11., -10.,  -2.,   4.,   3.,  -9.,  -6.,   7.,   1.],\n       [-14.,   0.,   4.,  -3.,   5.,  10.,  13.,   7.,   1.],\n       [ -3.,  -7.,  -2.,  -8.,   0.,  -6.,  -5.,  -9.,   1.]])"
     },
     "execution_count": 113,
     "metadata": {},
     "output_type": "execute_result"
    },
    {
     "data": {
      "text/plain": "array([[  0.,  14.,   8.,   0.,   5.,  -2.,   9.,  -3.,   1.],\n       [ -4.,  10.,   6.,   4., -14.,  -2., -14.,   8.,   1.],\n       [ -1.,  -6.,   5., -12.,   3.,  -3.,   2.,  -2.,   1.],\n       [  5.,  -2.,   3.,  10.,   5.,  11.,   4.,  -8.,   1.],\n       [-15., -15.,  -8., -15.,   7.,  -4., -12.,   2.,   1.],\n       [ 11., -10.,  -2.,   4.,   3.,  -9.,  -6.,   7.,   1.],\n       [-14.,   0.,   4.,  -3.,   5.,  10.,  13.,   7.,   1.],\n       [ -3.,  -7.,  -2.,  -8.,   0.,  -6.,  -5.,  -9.,   1.]])"
     },
     "execution_count": 126,
     "metadata": {},
     "output_type": "execute_result"
    }
   ],
   "source": [
    "X_new = np.concatenate([X,np.ones(shape=(8,1))],axis=1)\n",
    "X_new"
   ],
   "metadata": {
    "collapsed": false,
    "pycharm": {
     "name": "#%%\n"
    }
   }
  },
  {
   "cell_type": "code",
   "execution_count": 127,
   "outputs": [
    {
     "data": {
      "text/plain": "(8, 9)"
     },
     "execution_count": 114,
     "metadata": {},
     "output_type": "execute_result"
    },
    {
     "data": {
      "text/plain": "(8, 9)"
     },
     "execution_count": 127,
     "metadata": {},
     "output_type": "execute_result"
    }
   ],
   "source": [
    "X_new.shape"
   ],
   "metadata": {
    "collapsed": false,
    "pycharm": {
     "name": "#%%\n"
    }
   }
  },
  {
   "cell_type": "code",
   "execution_count": 128,
   "outputs": [
    {
     "data": {
      "text/plain": "array([-9.53423295, -3.18237714, 32.89293368, 13.94370726, 12.88345187,\n       -5.64066992, 14.95379584,  8.62431708])"
     },
     "execution_count": 115,
     "metadata": {},
     "output_type": "execute_result"
    },
    {
     "data": {
      "text/plain": "array([-9.53423295, -3.18237714, 32.89293368, 13.94370726, 12.88345187,\n       -5.64066992, 14.95379584,  8.62431708])"
     },
     "execution_count": 128,
     "metadata": {},
     "output_type": "execute_result"
    }
   ],
   "source": [
    "w = np.linalg.inv(X.T.dot(X)).dot(X.T).dot(y_new)\n",
    "w\n"
   ],
   "metadata": {
    "collapsed": false,
    "pycharm": {
     "name": "#%%\n"
    }
   }
  },
  {
   "cell_type": "code",
   "execution_count": 129,
   "outputs": [
    {
     "data": {
      "text/plain": "array([ 403.,  -50.,   94.,  190., -331.,  -23.,  486., -245., -229.])"
     },
     "execution_count": 116,
     "metadata": {},
     "output_type": "execute_result"
    },
    {
     "data": {
      "text/plain": "array([ 403.,  -50.,   94.,  190., -331.,  -23.,  486., -245., -264.])"
     },
     "execution_count": 129,
     "metadata": {},
     "output_type": "execute_result"
    }
   ],
   "source": [
    "w = np.array([ 1.,  5., 15.,  3.,  8.,  4., 17., 12.])\n",
    "b = 64\n",
    "X9= np.random.randint(-10,10,size=8)\n",
    "y9 = w.dot(X9) +b\n",
    "y9\n",
    "\n",
    "y_new = np.concatenate([y_new,[y9]])\n",
    "y_new"
   ],
   "metadata": {
    "collapsed": false,
    "pycharm": {
     "name": "#%%\n"
    }
   }
  },
  {
   "cell_type": "code",
   "execution_count": 130,
   "outputs": [
    {
     "data": {
      "text/plain": "array([[  0.,  14.,   8.,   0.,   5.,  -2.,   9.,  -3.,   1.],\n       [ -4.,  10.,   6.,   4., -14.,  -2., -14.,   8.,   1.],\n       [ -1.,  -6.,   5., -12.,   3.,  -3.,   2.,  -2.,   1.],\n       [  5.,  -2.,   3.,  10.,   5.,  11.,   4.,  -8.,   1.],\n       [-15., -15.,  -8., -15.,   7.,  -4., -12.,   2.,   1.],\n       [ 11., -10.,  -2.,   4.,   3.,  -9.,  -6.,   7.,   1.],\n       [-14.,   0.,   4.,  -3.,   5.,  10.,  13.,   7.,   1.],\n       [ -3.,  -7.,  -2.,  -8.,   0.,  -6.,  -5.,  -9.,   1.],\n       [  1.,  -5.,  -6.,   9., -10.,  -3.,  -6.,  -1.,   1.]])"
     },
     "execution_count": 117,
     "metadata": {},
     "output_type": "execute_result"
    },
    {
     "data": {
      "text/plain": "array([[  0.,  14.,   8.,   0.,   5.,  -2.,   9.,  -3.,   1.],\n       [ -4.,  10.,   6.,   4., -14.,  -2., -14.,   8.,   1.],\n       [ -1.,  -6.,   5., -12.,   3.,  -3.,   2.,  -2.,   1.],\n       [  5.,  -2.,   3.,  10.,   5.,  11.,   4.,  -8.,   1.],\n       [-15., -15.,  -8., -15.,   7.,  -4., -12.,   2.,   1.],\n       [ 11., -10.,  -2.,   4.,   3.,  -9.,  -6.,   7.,   1.],\n       [-14.,   0.,   4.,  -3.,   5.,  10.,  13.,   7.,   1.],\n       [ -3.,  -7.,  -2.,  -8.,   0.,  -6.,  -5.,  -9.,   1.],\n       [  3., -10.,  -9.,   8.,   9.,   6., -10.,  -8.,   1.]])"
     },
     "execution_count": 130,
     "metadata": {},
     "output_type": "execute_result"
    }
   ],
   "source": [
    "X_new = np.concatenate([X_new,[np.concatenate([X9,[1]])]])\n",
    "X_new"
   ],
   "metadata": {
    "collapsed": false,
    "pycharm": {
     "name": "#%%\n"
    }
   }
  },
  {
   "cell_type": "code",
   "execution_count": 131,
   "outputs": [
    {
     "data": {
      "text/plain": "array([ 1.,  5., 15.,  3.,  8.,  4., 17., 12., 64.])"
     },
     "metadata": {},
     "output_type": "display_data"
    },
    {
     "data": {
      "text/plain": "0.0"
     },
     "metadata": {},
     "output_type": "display_data"
    },
    {
     "data": {
      "text/plain": "array([ 1.,  5., 15.,  3.,  8.,  4., 17., 12., 64.])"
     },
     "metadata": {},
     "output_type": "display_data"
    },
    {
     "data": {
      "text/plain": "0.0"
     },
     "metadata": {},
     "output_type": "display_data"
    }
   ],
   "source": [
    "mode = LinearRegression(fit_intercept=False)\n",
    "mode.fit(X_new,y_new)\n",
    "display(mode.coef_,mode.intercept_)\n",
    "\n"
   ],
   "metadata": {
    "collapsed": false,
    "pycharm": {
     "name": "#%%\n"
    }
   }
  },
  {
   "cell_type": "code",
   "execution_count": 132,
   "outputs": [
    {
     "data": {
      "text/plain": "array([ 1.,  5., 15.,  3.,  8.,  4., 17., 12.,  0.])"
     },
     "metadata": {},
     "output_type": "display_data"
    },
    {
     "data": {
      "text/plain": "64.00000000000036"
     },
     "metadata": {},
     "output_type": "display_data"
    },
    {
     "data": {
      "text/plain": "array([ 1.,  5., 15.,  3.,  8.,  4., 17., 12.,  0.])"
     },
     "metadata": {},
     "output_type": "display_data"
    },
    {
     "data": {
      "text/plain": "64.0000000000003"
     },
     "metadata": {},
     "output_type": "display_data"
    }
   ],
   "source": [
    "mode = LinearRegression(fit_intercept=True)\n",
    "mode.fit(X_new,y_new)\n",
    "display(mode.coef_,mode.intercept_)\n"
   ],
   "metadata": {
    "collapsed": false,
    "pycharm": {
     "name": "#%%\n"
    }
   }
  },
  {
   "cell_type": "code",
   "execution_count": 133,
   "outputs": [
    {
     "data": {
      "text/plain": "array([ 1.,  5., 15.,  3.,  8.,  4., 17., 12., 64.])"
     },
     "execution_count": 120,
     "metadata": {},
     "output_type": "execute_result"
    },
    {
     "data": {
      "text/plain": "array([ 1.,  5., 15.,  3.,  8.,  4., 17., 12., 64.])"
     },
     "execution_count": 133,
     "metadata": {},
     "output_type": "execute_result"
    }
   ],
   "source": [
    "w = np.linalg.inv(X_new.T.dot(X_new)).dot(X_new.T).dot(y_new)\n",
    "w\n"
   ],
   "metadata": {
    "collapsed": false,
    "pycharm": {
     "name": "#%%\n"
    }
   }
  }
 ],
 "metadata": {
  "kernelspec": {
   "display_name": "Python 3 (ipykernel)",
   "language": "python",
   "name": "python3"
  },
  "language_info": {
   "codemirror_mode": {
    "name": "ipython",
    "version": 3
   },
   "file_extension": ".py",
   "mimetype": "text/x-python",
   "name": "python",
   "nbconvert_exporter": "python",
   "pygments_lexer": "ipython3",
   "version": "3.8.3"
  }
 },
 "nbformat": 4,
 "nbformat_minor": 1
}