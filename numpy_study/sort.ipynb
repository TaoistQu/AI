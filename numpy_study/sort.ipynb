{
 "cells": [
  {
   "cell_type": "code",
   "execution_count": 1,
   "id": "2b5238e1",
   "metadata": {},
   "outputs": [],
   "source": [
    "import numpy as np"
   ]
  },
  {
   "cell_type": "markdown",
   "id": "a90113b5",
   "metadata": {},
   "source": [
    "## 1、冒泡排序"
   ]
  },
  {
   "cell_type": "code",
   "execution_count": 14,
   "id": "a1c87b2b",
   "metadata": {},
   "outputs": [],
   "source": [
    "def bubble_sort(arr):\n",
    "    length = len(arr)\n",
    "    for i in range(length-1):\n",
    "        #优化，如果没发生交换说明数组本身有序，属于好的情况时间复杂度为O(n)\n",
    "        switched = False\n",
    "        for j in range(length-i-1):\n",
    "            if arr[j] > arr[j+1]:\n",
    "                arr[j],arr[j+1] = arr[j+1],arr[j]\n",
    "                switched = True\n",
    "        if not switched:\n",
    "            break\n",
    "    return arr      "
   ]
  },
  {
   "cell_type": "code",
   "execution_count": 27,
   "id": "4007a460",
   "metadata": {},
   "outputs": [
    {
     "data": {
      "text/plain": [
       "array([0, 1, 2, 3, 4, 5, 7])"
      ]
     },
     "execution_count": 27,
     "metadata": {},
     "output_type": "execute_result"
    }
   ],
   "source": [
    "arr = np.array([1,4,2,7,3,0,5])\n",
    "bubble_sort(arr)\n"
   ]
  },
  {
   "cell_type": "markdown",
   "id": "a69c7de2",
   "metadata": {},
   "source": [
    "## 2、选择排序"
   ]
  },
  {
   "cell_type": "code",
   "execution_count": 20,
   "id": "5f6caf22",
   "metadata": {},
   "outputs": [],
   "source": [
    "def selection_sort(arr):\n",
    "    length = len(arr)\n",
    "    for i in range(length-1):\n",
    "        minIndex = i\n",
    "        for j in range(i+1,length-1):\n",
    "            if(arr[minIndex] > arr[j]):\n",
    "                minIndex = j\n",
    "        arr[i],arr[minIndex] = arr[minIndex],arr[i]\n",
    "    return arr\n"
   ]
  },
  {
   "cell_type": "code",
   "execution_count": 21,
   "id": "82bab79e",
   "metadata": {},
   "outputs": [
    {
     "data": {
      "text/plain": [
       "array([0, 1, 2, 3, 4, 7, 5])"
      ]
     },
     "execution_count": 21,
     "metadata": {},
     "output_type": "execute_result"
    }
   ],
   "source": [
    "arr = np.array([1,4,2,7,3,0,5])\n",
    "selection_sort(arr)"
   ]
  },
  {
   "cell_type": "code",
   "execution_count": 28,
   "id": "6fc2aedf",
   "metadata": {},
   "outputs": [],
   "source": [
    "def select_sort(arr):\n",
    "    for i in range(len(arr)):\n",
    "        #使用numpy中的argmin函数获取最小值索引S\n",
    "        index = np.argmin(arr[i:])+i\n",
    "        arr[index],arr[i] = arr[i],arr[index]\n",
    "    return arr"
   ]
  },
  {
   "cell_type": "code",
   "execution_count": 29,
   "id": "266357a8",
   "metadata": {},
   "outputs": [
    {
     "data": {
      "text/plain": [
       "array([0, 1, 2, 3, 4, 5, 7])"
      ]
     },
     "execution_count": 29,
     "metadata": {},
     "output_type": "execute_result"
    }
   ],
   "source": [
    "arr = np.array([1,4,2,7,3,0,5])\n",
    "select_sort(arr)"
   ]
  },
  {
   "cell_type": "markdown",
   "id": "aea99199",
   "metadata": {},
   "source": [
    "## 3、快速排序"
   ]
  },
  {
   "cell_type": "code",
   "execution_count": 22,
   "id": "93263ffd",
   "metadata": {},
   "outputs": [],
   "source": [
    "def quick_sort(arr):\n",
    "    if len(arr) < 2:\n",
    "        return arr\n",
    "    #选择基准值\n",
    "    pivot = arr.pop()\n",
    "    greater = []\n",
    "    less = []\n",
    "    \n",
    "    for i in range(len(arr)):\n",
    "        if arr[i] > pivot:\n",
    "            greater.append(arr[i])\n",
    "        else:\n",
    "            less.append(arr[i])\n",
    "    return quick_sort(less) + [pivot] + quick_sort(greater)\n",
    "    "
   ]
  },
  {
   "cell_type": "code",
   "execution_count": 24,
   "id": "7b84368d",
   "metadata": {},
   "outputs": [
    {
     "data": {
      "text/plain": [
       "[0, 1, 2, 3, 4, 5, 7]"
      ]
     },
     "execution_count": 24,
     "metadata": {},
     "output_type": "execute_result"
    }
   ],
   "source": [
    "arr = [1,4,2,7,3,0,5]\n",
    "quick_sort(arr)"
   ]
  },
  {
   "cell_type": "markdown",
   "id": "820bb9f3",
   "metadata": {},
   "source": [
    "## 4、插入排序"
   ]
  },
  {
   "cell_type": "code",
   "execution_count": 25,
   "id": "4548c44c",
   "metadata": {},
   "outputs": [],
   "source": [
    "def insert_sort(arr):\n",
    "    for i in range(1,len(arr)):\n",
    "        loop_index = i\n",
    "        while loop_index > 0 and arr[loop_index] < arr[loop_index-1]:\n",
    "            arr[loop_index],arr[loop_index-1] = arr[loop_index-1],arr[loop_index]\n",
    "            loop_index -= 1\n",
    "    return arr\n"
   ]
  },
  {
   "cell_type": "code",
   "execution_count": 26,
   "id": "fceef652",
   "metadata": {},
   "outputs": [
    {
     "data": {
      "text/plain": [
       "[0, 1, 2, 3, 4, 5, 7]"
      ]
     },
     "execution_count": 26,
     "metadata": {},
     "output_type": "execute_result"
    }
   ],
   "source": [
    "arr = [1,4,2,7,3,0,5]\n",
    "insert_sort(arr)"
   ]
  },
  {
   "cell_type": "markdown",
   "id": "0b3c4288",
   "metadata": {},
   "source": [
    "## 使用numpy的包排序"
   ]
  },
  {
   "cell_type": "code",
   "execution_count": 32,
   "id": "4d0da319",
   "metadata": {},
   "outputs": [
    {
     "data": {
      "text/plain": [
       "array([48, 77, 78, 35, 37, 38, 75, 78, 38, 36, 15, 88, 79, 48, 65, 73,  6,\n",
       "       73,  9, 79, 12, 61, 25, 79, 61, 75, 40, 99, 15, 97, 41, 59, 57, 10,\n",
       "       59, 75, 72, 30, 62, 95, 26, 14, 85, 35, 64, 91, 69, 25, 65, 19, 79,\n",
       "       23, 72, 33, 47, 40, 39, 36, 28, 55, 17, 69, 94, 81, 11, 74, 84, 40,\n",
       "       56, 87, 58, 77, 57, 82, 90, 21, 40,  5, 72, 68, 54, 69,  4, 60, 12,\n",
       "       43, 98, 41,  5, 69, 87,  1, 50, 42, 69, 25, 71, 44, 14, 46])"
      ]
     },
     "execution_count": 32,
     "metadata": {},
     "output_type": "execute_result"
    }
   ],
   "source": [
    "n = np.random.randint(0,100,size=100)\n",
    "n"
   ]
  },
  {
   "cell_type": "code",
   "execution_count": 34,
   "id": "15143064",
   "metadata": {},
   "outputs": [
    {
     "data": {
      "text/plain": [
       "array([ 4,  1,  5,  6,  5,  9, 12, 12, 10, 11, 14, 42, 15, 36, 41, 43, 38,\n",
       "       25, 44, 38, 19, 37, 25, 40, 21, 40, 40, 35, 15, 17, 41, 28, 36, 14,\n",
       "       39, 40, 33, 30, 23, 25, 26, 35, 46, 85, 64, 91, 69, 95, 65, 77, 79,\n",
       "       62, 72, 72, 47, 75, 59, 57, 59, 55, 97, 69, 94, 81, 99, 74, 84, 75,\n",
       "       56, 87, 58, 77, 57, 82, 90, 61, 79, 61, 72, 68, 54, 69, 79, 60, 73,\n",
       "       73, 98, 65, 48, 69, 87, 79, 50, 88, 69, 78, 71, 75, 78, 48])"
      ]
     },
     "execution_count": 34,
     "metadata": {},
     "output_type": "execute_result"
    }
   ],
   "source": [
    "np.partition(n,kth=5)"
   ]
  },
  {
   "cell_type": "code",
   "execution_count": 35,
   "id": "bca5b180",
   "metadata": {},
   "outputs": [
    {
     "data": {
      "text/plain": [
       "array([35, 19, 14, 35, 37, 38, 44, 25, 38, 36, 15, 42,  1,  5, 41, 43,  6,\n",
       "       12,  9,  4, 12,  5, 25, 40, 21, 40, 40, 11, 15, 17, 41, 28, 36, 10,\n",
       "       39, 40, 33, 30, 23, 25, 26, 14, 46, 72, 48, 75, 69, 71, 65, 69, 50,\n",
       "       62, 72, 72, 47, 75, 59, 57, 59, 55, 69, 69, 48, 65, 73, 74, 73, 75,\n",
       "       56, 60, 58, 64, 57, 69, 54, 61, 68, 61, 77, 79, 79, 82, 79, 78, 84,\n",
       "       78, 77, 81, 79, 85, 90, 88, 87, 87, 91, 94, 95, 97, 99, 98])"
      ]
     },
     "execution_count": 35,
     "metadata": {},
     "output_type": "execute_result"
    }
   ],
   "source": [
    "np.partition(n,kth=-5)"
   ]
  },
  {
   "cell_type": "code",
   "execution_count": null,
   "id": "33e9dd1e",
   "metadata": {},
   "outputs": [],
   "source": []
  }
 ],
 "metadata": {
  "kernelspec": {
   "display_name": "Python 3 (ipykernel)",
   "language": "python",
   "name": "python3"
  },
  "language_info": {
   "codemirror_mode": {
    "name": "ipython",
    "version": 3
   },
   "file_extension": ".py",
   "mimetype": "text/x-python",
   "name": "python",
   "nbconvert_exporter": "python",
   "pygments_lexer": "ipython3",
   "version": "3.8.0"
  }
 },
 "nbformat": 4,
 "nbformat_minor": 5
}
