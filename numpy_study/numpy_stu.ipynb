{
 "cells": [
  {
   "cell_type": "markdown",
   "id": "6c427505",
   "metadata": {},
   "source": [
    "\n",
    "## numpy初学\n",
    "\n",
    "\n"
   ]
  },
  {
   "cell_type": "code",
   "execution_count": 1,
   "id": "fa2ee6d5",
   "metadata": {},
   "outputs": [],
   "source": [
    "\n",
    "%run my.py\n",
    "\n",
    "\n"
   ]
  },
  {
   "cell_type": "code",
   "execution_count": 1,
   "id": "8e4bf180",
   "metadata": {},
   "outputs": [
    {
     "data": {
      "text/plain": [
       "array([[2, 8, 4, 8, 3, 8],\n",
       "       [7, 3, 1, 8, 4, 0],\n",
       "       [3, 9, 2, 2, 1, 0],\n",
       "       [4, 9, 2, 9, 7, 1],\n",
       "       [2, 3, 8, 9, 7, 8],\n",
       "       [7, 0, 1, 4, 3, 4]])"
      ]
     },
     "metadata": {},
     "output_type": "display_data"
    },
    {
     "data": {
      "text/plain": [
       "array([[7, 0, 1, 4, 3, 4],\n",
       "       [2, 3, 8, 9, 7, 8],\n",
       "       [4, 9, 2, 9, 7, 1],\n",
       "       [3, 9, 2, 2, 1, 0],\n",
       "       [7, 3, 1, 8, 4, 0],\n",
       "       [2, 8, 4, 8, 3, 8]])"
      ]
     },
     "metadata": {},
     "output_type": "display_data"
    }
   ],
   "source": [
    "import numpy as np \n",
    "import matplotlib.pyplot as plt\n",
    "import cv2\n",
    "\n",
    "\n",
    "n  = np.random.randint(0,10 , size=(6,6))\n",
    "\n",
    "\n",
    "n1 = n[::-1]\n",
    "display(n,n1)"
   ]
  },
  {
   "cell_type": "markdown",
   "id": "fc54ee7e",
   "metadata": {},
   "source": [
    "## 数据反转"
   ]
  },
  {
   "cell_type": "code",
   "execution_count": 4,
   "id": "96d66645",
   "metadata": {},
   "outputs": [
    {
     "data": {
      "text/plain": [
       "array([[[0.29411766, 0.39215687, 0.46666667],\n",
       "        [0.46666667, 0.4862745 , 0.49803922],\n",
       "        [0.4627451 , 0.4862745 , 0.5019608 ],\n",
       "        ...,\n",
       "        [0.4627451 , 0.48235294, 0.49803922],\n",
       "        [0.45882353, 0.47843137, 0.49803922],\n",
       "        [0.21960784, 0.33333334, 0.44313726]],\n",
       "\n",
       "       [[0.2901961 , 0.3764706 , 0.44313726],\n",
       "        [0.627451  , 0.6156863 , 0.60784316],\n",
       "        [0.85490197, 0.85490197, 0.84705883],\n",
       "        ...,\n",
       "        [0.8627451 , 0.85882354, 0.8509804 ],\n",
       "        [0.8509804 , 0.8509804 , 0.84313726],\n",
       "        [0.30588236, 0.42352942, 0.5254902 ]],\n",
       "\n",
       "       [[0.28235295, 0.37254903, 0.4392157 ],\n",
       "        [0.6666667 , 0.6627451 , 0.654902  ],\n",
       "        [1.        , 1.        , 1.        ],\n",
       "        ...,\n",
       "        [1.        , 1.        , 1.        ],\n",
       "        [1.        , 1.        , 1.        ],\n",
       "        [0.35686275, 0.4745098 , 0.5764706 ]],\n",
       "\n",
       "       ...,\n",
       "\n",
       "       [[0.4509804 , 0.45882353, 0.45882353],\n",
       "        [0.6509804 , 0.6509804 , 0.64705884],\n",
       "        [0.99215686, 0.99215686, 0.9843137 ],\n",
       "        ...,\n",
       "        [1.        , 0.99607843, 0.9882353 ],\n",
       "        [0.9843137 , 0.9882353 , 0.98039216],\n",
       "        [0.36078432, 0.49019608, 0.6       ]],\n",
       "\n",
       "       [[0.4509804 , 0.45882353, 0.45882353],\n",
       "        [0.6509804 , 0.6509804 , 0.64705884],\n",
       "        [0.99215686, 0.99215686, 0.9843137 ],\n",
       "        ...,\n",
       "        [1.        , 0.99607843, 0.9882353 ],\n",
       "        [0.9843137 , 0.9882353 , 0.98039216],\n",
       "        [0.36078432, 0.49019608, 0.6       ]],\n",
       "\n",
       "       [[0.44705883, 0.45490196, 0.45490196],\n",
       "        [0.65882355, 0.654902  , 0.654902  ],\n",
       "        [1.        , 1.        , 1.        ],\n",
       "        ...,\n",
       "        [1.        , 1.        , 1.        ],\n",
       "        [1.        , 1.        , 1.        ],\n",
       "        [0.36078432, 0.49411765, 0.6       ]]], dtype=float32)"
      ]
     },
     "execution_count": 4,
     "metadata": {},
     "output_type": "execute_result"
    }
   ],
   "source": [
    "fish = plt.imread('fish.png')\n",
    "fish"
   ]
  },
  {
   "cell_type": "code",
   "execution_count": 5,
   "id": "671fa7ca",
   "metadata": {},
   "outputs": [
    {
     "data": {
      "text/plain": [
       "(456, 730, 3)"
      ]
     },
     "execution_count": 5,
     "metadata": {},
     "output_type": "execute_result"
    }
   ],
   "source": [
    "cat = plt.imread('cat.jpg')\n",
    "cat.shape"
   ]
  },
  {
   "cell_type": "code",
   "execution_count": 8,
   "id": "f290ee48",
   "metadata": {},
   "outputs": [],
   "source": [
    "#使用python语言的pillow \n",
    "from PIL import Image\n",
    "cat = Image.open('cat.jpg')\n",
    "cat\n",
    "fish = Image.open('fish.png')"
   ]
  },
  {
   "cell_type": "code",
   "execution_count": 6,
   "id": "1f76d98c",
   "metadata": {},
   "outputs": [
    {
     "data": {
      "text/plain": [
       "numpy.ndarray"
      ]
     },
     "metadata": {},
     "output_type": "display_data"
    },
    {
     "data": {
      "text/plain": [
       "numpy.ndarray"
      ]
     },
     "metadata": {},
     "output_type": "display_data"
    }
   ],
   "source": [
    "\n",
    "type(fish)\n",
    "display(type(cat),type(fish))"
   ]
  },
  {
   "cell_type": "code",
   "execution_count": 3,
   "id": "4fb9d2b4",
   "metadata": {},
   "outputs": [
    {
     "data": {
      "text/plain": [
       "array([[2, 2],\n",
       "       [4, 8],\n",
       "       [0, 2],\n",
       "       [6, 9],\n",
       "       [1, 3],\n",
       "       [5, 2]])"
      ]
     },
     "execution_count": 3,
     "metadata": {},
     "output_type": "execute_result"
    }
   ],
   "source": [
    "n[:, 0:2]"
   ]
  },
  {
   "cell_type": "code",
   "execution_count": null,
   "id": "1362914b",
   "metadata": {},
   "outputs": [],
   "source": [
    "cat_cv = cv2.imread('cat.jpg')\n",
    "cv2.imshow('cat',cat_cv)\n",
    "cv2.waitKey(0)\n",
    "cv2.destroyAllWindows()\n"
   ]
  },
  {
   "cell_type": "code",
   "execution_count": null,
   "id": "d13c9fc4",
   "metadata": {},
   "outputs": [],
   "source": [
    "cat"
   ]
  },
  {
   "cell_type": "code",
   "execution_count": 8,
   "id": "112b801b",
   "metadata": {},
   "outputs": [
    {
     "data": {
      "text/plain": [
       "array([1, 2, 3, 4, 5, 6])"
      ]
     },
     "execution_count": 8,
     "metadata": {},
     "output_type": "execute_result"
    }
   ],
   "source": [
    "def select(n):\n",
    "    for i in range(len(n)):\n",
    "        index = np.argmin(n[i:])\n",
    "        n[index+i],n[i] = n[i],n[index+i]\n",
    "\n",
    "n = np.array([6,1,2,5,4,3])\n",
    "n\n",
    "select(n)\n",
    "n\n",
    "\n",
    "        "
   ]
  },
  {
   "cell_type": "code",
   "execution_count": 13,
   "id": "0c195b4d",
   "metadata": {},
   "outputs": [
    {
     "data": {
      "text/plain": [
       "array([1, 2, 4, 5, 6, 7])"
      ]
     },
     "execution_count": 13,
     "metadata": {},
     "output_type": "execute_result"
    }
   ],
   "source": [
    "n = np.array([5,2,4,6,7,1])\n",
    "n \n",
    "np.sort(n)"
   ]
  },
  {
   "cell_type": "markdown",
   "id": "71c0db43",
   "metadata": {},
   "source": [
    " ## 减轻每一行的平均值\n"
   ]
  },
  {
   "cell_type": "code",
   "execution_count": 19,
   "id": "bb028077",
   "metadata": {},
   "outputs": [
    {
     "data": {
      "text/plain": [
       "array([[ 4.2, -1.8, -1.8,  1.2, -1.8],\n",
       "       [ 2.2,  5.2, -1.8, -2.8, -2.8],\n",
       "       [ 1.4,  2.4, -0.6,  1.4, -4.6]])"
      ]
     },
     "execution_count": 19,
     "metadata": {},
     "output_type": "execute_result"
    }
   ],
   "source": [
    "n = np.random.randint(0,10,size=(3,5))\n",
    "n.mean(axis=1)\n",
    "n - n.mean(axis=1).reshape(3,1)"
   ]
  },
  {
   "cell_type": "markdown",
   "id": "1d530540",
   "metadata": {},
   "source": [
    "## 求最后两维的和"
   ]
  },
  {
   "cell_type": "code",
   "execution_count": 5,
   "id": "2ec8bf89",
   "metadata": {},
   "outputs": [
    {
     "data": {
      "text/plain": [
       "array([[[[9, 0, 4, 4, 5],\n",
       "         [9, 8, 9, 0, 8],\n",
       "         [5, 5, 6, 1, 6],\n",
       "         [4, 8, 7, 9, 8]],\n",
       "\n",
       "        [[4, 2, 0, 4, 2],\n",
       "         [0, 8, 2, 0, 0],\n",
       "         [5, 5, 1, 2, 1],\n",
       "         [3, 6, 7, 6, 1]],\n",
       "\n",
       "        [[0, 6, 4, 0, 3],\n",
       "         [2, 4, 9, 1, 0],\n",
       "         [0, 6, 7, 6, 7],\n",
       "         [1, 0, 4, 9, 1]]],\n",
       "\n",
       "\n",
       "       [[[7, 8, 0, 7, 2],\n",
       "         [2, 5, 3, 2, 2],\n",
       "         [4, 4, 9, 3, 6],\n",
       "         [4, 9, 0, 0, 3]],\n",
       "\n",
       "        [[8, 0, 6, 0, 3],\n",
       "         [7, 9, 4, 1, 0],\n",
       "         [2, 2, 7, 1, 3],\n",
       "         [4, 6, 5, 1, 6]],\n",
       "\n",
       "        [[7, 1, 3, 6, 2],\n",
       "         [5, 7, 9, 0, 0],\n",
       "         [0, 5, 1, 1, 6],\n",
       "         [5, 0, 2, 4, 8]]],\n",
       "\n",
       "\n",
       "       [[[8, 7, 8, 9, 8],\n",
       "         [2, 6, 3, 1, 6],\n",
       "         [2, 9, 3, 3, 6],\n",
       "         [6, 2, 9, 2, 1]],\n",
       "\n",
       "        [[5, 7, 8, 7, 1],\n",
       "         [8, 7, 8, 7, 5],\n",
       "         [7, 2, 5, 9, 2],\n",
       "         [6, 3, 7, 0, 6]],\n",
       "\n",
       "        [[8, 4, 1, 5, 6],\n",
       "         [1, 6, 0, 0, 0],\n",
       "         [0, 0, 1, 9, 6],\n",
       "         [2, 4, 7, 7, 4]]],\n",
       "\n",
       "\n",
       "       [[[5, 8, 0, 2, 7],\n",
       "         [5, 8, 6, 2, 7],\n",
       "         [7, 3, 0, 9, 0],\n",
       "         [6, 6, 1, 0, 1]],\n",
       "\n",
       "        [[6, 3, 8, 1, 7],\n",
       "         [8, 6, 8, 1, 3],\n",
       "         [0, 4, 9, 2, 8],\n",
       "         [2, 1, 4, 8, 1]],\n",
       "\n",
       "        [[7, 7, 8, 1, 2],\n",
       "         [1, 6, 2, 5, 4],\n",
       "         [2, 8, 4, 0, 4],\n",
       "         [8, 0, 2, 2, 0]]]])"
      ]
     },
     "execution_count": 5,
     "metadata": {},
     "output_type": "execute_result"
    }
   ],
   "source": [
    "n = np.random.randint(0,10,size=(4,3,4,5))\n",
    "n \n",
    "\n",
    "\n",
    "\n"
   ]
  },
  {
   "cell_type": "code",
   "execution_count": 6,
   "id": "3a868444",
   "metadata": {},
   "outputs": [
    {
     "data": {
      "text/plain": [
       "array([[115,  59,  70],\n",
       "       [ 80,  75,  72],\n",
       "       [101, 110,  71],\n",
       "       [ 83,  90,  73]])"
      ]
     },
     "execution_count": 6,
     "metadata": {},
     "output_type": "execute_result"
    }
   ],
   "source": [
    "np.sum(n,axis=(2,3))"
   ]
  },
  {
   "cell_type": "code",
   "execution_count": 7,
   "id": "41c75cd9",
   "metadata": {},
   "outputs": [
    {
     "data": {
      "text/plain": [
       "array([[115,  59,  70],\n",
       "       [ 80,  75,  72],\n",
       "       [101, 110,  71],\n",
       "       [ 83,  90,  73]])"
      ]
     },
     "execution_count": 7,
     "metadata": {},
     "output_type": "execute_result"
    }
   ],
   "source": [
    "np.sum(n,axis=(-1,-2))"
   ]
  },
  {
   "cell_type": "code",
   "execution_count": 8,
   "id": "a3c6b042",
   "metadata": {},
   "outputs": [
    {
     "data": {
      "text/plain": [
       "array([[115,  59,  70],\n",
       "       [ 80,  75,  72],\n",
       "       [101, 110,  71],\n",
       "       [ 83,  90,  73]])"
      ]
     },
     "execution_count": 8,
     "metadata": {},
     "output_type": "execute_result"
    }
   ],
   "source": [
    "np.sum(n,axis=(-2,-1))"
   ]
  },
  {
   "cell_type": "markdown",
   "id": "bf2402aa",
   "metadata": {},
   "source": [
    "## 交换两行"
   ]
  },
  {
   "cell_type": "code",
   "execution_count": 9,
   "id": "b7ba724b",
   "metadata": {},
   "outputs": [
    {
     "data": {
      "text/plain": [
       "array([[4, 4, 4, 1, 2],\n",
       "       [7, 1, 6, 9, 2],\n",
       "       [8, 4, 7, 8, 3],\n",
       "       [9, 6, 0, 6, 2]])"
      ]
     },
     "execution_count": 9,
     "metadata": {},
     "output_type": "execute_result"
    }
   ],
   "source": [
    "n1 = np.random.randint(0,10,size=(4,5))\n",
    "n1"
   ]
  },
  {
   "cell_type": "code",
   "execution_count": 11,
   "id": "5c672f46",
   "metadata": {},
   "outputs": [
    {
     "data": {
      "text/plain": [
       "array([[4, 4, 4, 1, 2],\n",
       "       [7, 1, 6, 9, 2]])"
      ]
     },
     "execution_count": 11,
     "metadata": {},
     "output_type": "execute_result"
    }
   ],
   "source": [
    "n1[[0,1]] "
   ]
  },
  {
   "cell_type": "code",
   "execution_count": 12,
   "id": "0f3e2801",
   "metadata": {},
   "outputs": [
    {
     "data": {
      "text/plain": [
       "array([[7, 1, 6, 9, 2],\n",
       "       [4, 4, 4, 1, 2],\n",
       "       [8, 4, 7, 8, 3],\n",
       "       [9, 6, 0, 6, 2]])"
      ]
     },
     "execution_count": 12,
     "metadata": {},
     "output_type": "execute_result"
    }
   ],
   "source": [
    "n1[[0,1]] = n1[[1,0]]\n",
    "n1"
   ]
  },
  {
   "cell_type": "markdown",
   "id": "5c0010d6",
   "metadata": {},
   "source": [
    "## 矩阵减去每一行的平均值"
   ]
  },
  {
   "cell_type": "code",
   "execution_count": 13,
   "id": "36cb058c",
   "metadata": {},
   "outputs": [
    {
     "data": {
      "text/plain": [
       "array([[5, 6, 6, 1, 3],\n",
       "       [8, 6, 1, 9, 8],\n",
       "       [1, 8, 1, 1, 8]])"
      ]
     },
     "execution_count": 13,
     "metadata": {},
     "output_type": "execute_result"
    }
   ],
   "source": [
    "n2 = np.random.randint(0,10,size=(3,5))\n",
    "n2"
   ]
  },
  {
   "cell_type": "code",
   "execution_count": 15,
   "id": "600ece72",
   "metadata": {},
   "outputs": [
    {
     "data": {
      "text/plain": [
       "array([4.2, 6.4, 3.8])"
      ]
     },
     "execution_count": 15,
     "metadata": {},
     "output_type": "execute_result"
    }
   ],
   "source": [
    "n2.mean(axis=1)"
   ]
  },
  {
   "cell_type": "code",
   "execution_count": 18,
   "id": "9e0e88bc",
   "metadata": {},
   "outputs": [
    {
     "data": {
      "text/plain": [
       "array([[ 0.8,  1.8,  1.8, -3.2, -1.2],\n",
       "       [ 1.6, -0.4, -5.4,  2.6,  1.6],\n",
       "       [-2.8,  4.2, -2.8, -2.8,  4.2]])"
      ]
     },
     "execution_count": 18,
     "metadata": {},
     "output_type": "execute_result"
    }
   ],
   "source": [
    "n2 - n2.mean(axis=1).reshape(3,-1)"
   ]
  },
  {
   "cell_type": "code",
   "execution_count": 19,
   "id": "b9b94d45",
   "metadata": {},
   "outputs": [
    {
     "data": {
      "text/plain": [
       "array([[4.2],\n",
       "       [6.4],\n",
       "       [3.8]])"
      ]
     },
     "execution_count": 19,
     "metadata": {},
     "output_type": "execute_result"
    }
   ],
   "source": [
    "n2.mean(axis=1).reshape(3,-1)"
   ]
  },
  {
   "cell_type": "code",
   "execution_count": null,
   "id": "6f6b23d1",
   "metadata": {},
   "outputs": [],
   "source": []
  }
 ],
 "metadata": {
  "kernelspec": {
   "display_name": "Python 3 (ipykernel)",
   "language": "python",
   "name": "python3"
  },
  "language_info": {
   "codemirror_mode": {
    "name": "ipython",
    "version": 3
   },
   "file_extension": ".py",
   "mimetype": "text/x-python",
   "name": "python",
   "nbconvert_exporter": "python",
   "pygments_lexer": "ipython3",
   "version": "3.8.0"
  }
 },
 "nbformat": 4,
 "nbformat_minor": 5
}
